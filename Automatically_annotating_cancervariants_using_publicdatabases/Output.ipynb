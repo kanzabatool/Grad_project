{
 "cells": [
  {
   "cell_type": "code",
   "execution_count": 9,
   "metadata": {},
   "outputs": [
    {
     "name": "stdout",
     "output_type": "stream",
     "text": [
      "--- CACHED RESULT = YES ---\n--- VCF TIME 0.0006868839263916016 seconds ---\n--- PARSER TIME 0.006235837936401367 seconds ---\n--- TOTAL TIME 0.01584792137145996 seconds ---\n"
     ]
    }
   ],
   "source": [
    "from IPython.display import clear_output\n",
    "from IPython.display import display\n",
    "from ipywidgets import widgets\n",
    "from main import Handler\n",
    "import numpy as np\n",
    "import pandas\n",
    "from pandas.io.json import json_normalize\n",
    "import json\n",
    "from ipywidgets import interact, interactive, fixed, interact_manual\n",
    "import time\n",
    "\n",
    "c = Handler(caching=True)\n",
    "df = pandas.DataFrame(c.sorted_list_reference)\n",
    "\n",
    "overview_list = list(df['OverView'].values)\n",
    "reference_list = list(df['Reference'].values)\n",
    "sample_list = list(df['Sample'].values)\n"
   ]
  }
 ],
 "metadata": {
  "kernelspec": {
   "display_name": "Python 3",
   "language": "python",
   "name": "python3"
  },
  "language_info": {
   "codemirror_mode": {
    "name": "ipython",
    "version": 3
   },
   "file_extension": ".py",
   "mimetype": "text/x-python",
   "name": "python",
   "nbconvert_exporter": "python",
   "pygments_lexer": "ipython3",
   "version": "3.6.5"
  }
 },
 "nbformat": 4,
 "nbformat_minor": 2
}
